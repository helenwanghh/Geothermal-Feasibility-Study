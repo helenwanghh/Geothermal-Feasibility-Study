{
 "cells": [
  {
   "cell_type": "markdown",
   "id": "e1b2910c",
   "metadata": {},
   "source": [
    "# Geothermal Feasibility Study\n",
    "\n"
   ]
  },
  {
   "cell_type": "markdown",
   "id": "72996758",
   "metadata": {},
   "source": [
    "### Sketch"
   ]
  },
  {
   "cell_type": "markdown",
   "id": "cd7915fe",
   "metadata": {},
   "source": [
    "<img src=\"roofdiagram.jpg\" alt=\"my awesome sketch\"  width=50%>"
   ]
  },
  {
   "cell_type": "markdown",
   "id": "98b0d51c",
   "metadata": {},
   "source": [
    "### Objective \n",
    "The objective of the final heat transfer project was to create computational models to study the feasibility and energy cost of using geothermal to supplement the cooling thermal management of a building. The building is assumed to be a currently standing building, with steel decking insulation and neglecting wall loads. The model was created with the following assumptions:\n",
    "\n",
    "### Assumptions\n",
    "-Ground was assumed to be at 10C at 2m deep\n",
    "-Soil was assumed to be clay\n",
    "For the heat exchange between soil and piping, two possibilities were examined:\n",
    "\n",
    "-Option 1: The outside surface is at soil temperature in the heat exchanger\n",
    "\n",
    "-Option 2: Introduced a parametric distance at which the soil was at 10C from the surface of the pipe. Studied the effect of that distance on the pipe length\n",
    "\n",
    "-Recommended material for piping was assumed to be HDPE\n",
    "\n",
    "-Thermal conductivity of HDPE =\t0.35 - 0.49 \tW / mK\n",
    "#Cost of HDPE Pipe: \n",
    "#Pipe Roughness: : 0.00006\n",
    "\n",
    "The heat exchanger is assumed to require cool temperature of 12C and return temperature of 22C. Heat exchanger efficacy is estimated at 0.75\n",
    "\n",
    "Indoor temperature of 20C is assumed\n",
    "\n",
    "Properties of the pipe were acquired from \n",
    "\n",
    "https://hdpesupply.com/1-ips-sdr11-pe4710-black-hdpe-pipe-500-coil/ : \\\\$0.82 per foot OR \\\\$2.69 per meter\n",
    "\n"
   ]
  },
  {
   "cell_type": "code",
   "execution_count": 1,
   "id": "8db24f5a",
   "metadata": {},
   "outputs": [],
   "source": [
    "import sys  \n",
    "sys.path.insert(0, 'Libraries/') \n",
    "import matplotlib.pyplot as plt\n",
    "import numpy as np\n",
    "import pandas as pd"
   ]
  },
  {
   "cell_type": "code",
   "execution_count": 2,
   "id": "79d4d219",
   "metadata": {},
   "outputs": [],
   "source": [
    "xl = pd.ExcelFile('Climate/Burlington, VT 2021-01-01 to 2021-12-31.xlsx')"
   ]
  },
  {
   "cell_type": "code",
   "execution_count": 3,
   "id": "fd912f5e",
   "metadata": {},
   "outputs": [
    {
     "data": {
      "text/html": [
       "<div>\n",
       "<style scoped>\n",
       "    .dataframe tbody tr th:only-of-type {\n",
       "        vertical-align: middle;\n",
       "    }\n",
       "\n",
       "    .dataframe tbody tr th {\n",
       "        vertical-align: top;\n",
       "    }\n",
       "\n",
       "    .dataframe thead th {\n",
       "        text-align: right;\n",
       "    }\n",
       "</style>\n",
       "<table border=\"1\" class=\"dataframe\">\n",
       "  <thead>\n",
       "    <tr style=\"text-align: right;\">\n",
       "      <th></th>\n",
       "      <th>name</th>\n",
       "      <th>temp</th>\n",
       "      <th>feelslike</th>\n",
       "      <th>dew</th>\n",
       "      <th>humidity</th>\n",
       "      <th>precip</th>\n",
       "      <th>precipprob</th>\n",
       "      <th>preciptype</th>\n",
       "      <th>snow</th>\n",
       "      <th>snowdepth</th>\n",
       "      <th>...</th>\n",
       "      <th>sealevelpressure</th>\n",
       "      <th>cloudcover</th>\n",
       "      <th>visibility</th>\n",
       "      <th>solarradiation</th>\n",
       "      <th>solarenergy</th>\n",
       "      <th>uvindex</th>\n",
       "      <th>severerisk</th>\n",
       "      <th>conditions</th>\n",
       "      <th>icon</th>\n",
       "      <th>stations</th>\n",
       "    </tr>\n",
       "    <tr>\n",
       "      <th>datetime</th>\n",
       "      <th></th>\n",
       "      <th></th>\n",
       "      <th></th>\n",
       "      <th></th>\n",
       "      <th></th>\n",
       "      <th></th>\n",
       "      <th></th>\n",
       "      <th></th>\n",
       "      <th></th>\n",
       "      <th></th>\n",
       "      <th></th>\n",
       "      <th></th>\n",
       "      <th></th>\n",
       "      <th></th>\n",
       "      <th></th>\n",
       "      <th></th>\n",
       "      <th></th>\n",
       "      <th></th>\n",
       "      <th></th>\n",
       "      <th></th>\n",
       "      <th></th>\n",
       "    </tr>\n",
       "  </thead>\n",
       "  <tbody>\n",
       "    <tr>\n",
       "      <th>2021-01-01</th>\n",
       "      <td>Burlington, VT</td>\n",
       "      <td>-3.9</td>\n",
       "      <td>-7.7</td>\n",
       "      <td>-8.8</td>\n",
       "      <td>68.6</td>\n",
       "      <td>0.0</td>\n",
       "      <td>NaN</td>\n",
       "      <td>NaN</td>\n",
       "      <td>0.0</td>\n",
       "      <td>6.3</td>\n",
       "      <td>...</td>\n",
       "      <td>1030.1</td>\n",
       "      <td>48.8</td>\n",
       "      <td>16.0</td>\n",
       "      <td>NaN</td>\n",
       "      <td>NaN</td>\n",
       "      <td>NaN</td>\n",
       "      <td>NaN</td>\n",
       "      <td>Partially cloudy</td>\n",
       "      <td>partly-cloudy-night</td>\n",
       "      <td>72622564776,KPBG,KBTV,KMVL,72611454771,7261701...</td>\n",
       "    </tr>\n",
       "  </tbody>\n",
       "</table>\n",
       "<p>1 rows × 23 columns</p>\n",
       "</div>"
      ],
      "text/plain": [
       "                      name  temp  feelslike  dew  humidity  precip  \\\n",
       "datetime                                                             \n",
       "2021-01-01  Burlington, VT  -3.9       -7.7 -8.8      68.6     0.0   \n",
       "\n",
       "            precipprob  preciptype  snow  snowdepth  ...  sealevelpressure  \\\n",
       "datetime                                             ...                     \n",
       "2021-01-01         NaN         NaN   0.0        6.3  ...            1030.1   \n",
       "\n",
       "            cloudcover  visibility  solarradiation  solarenergy  uvindex  \\\n",
       "datetime                                                                   \n",
       "2021-01-01        48.8        16.0             NaN          NaN      NaN   \n",
       "\n",
       "            severerisk        conditions                 icon  \\\n",
       "datetime                                                        \n",
       "2021-01-01         NaN  Partially cloudy  partly-cloudy-night   \n",
       "\n",
       "                                                     stations  \n",
       "datetime                                                       \n",
       "2021-01-01  72622564776,KPBG,KBTV,KMVL,72611454771,7261701...  \n",
       "\n",
       "[1 rows x 23 columns]"
      ]
     },
     "execution_count": 3,
     "metadata": {},
     "output_type": "execute_result"
    }
   ],
   "source": [
    "weather = pd.read_excel(\"Climate/Burlington, VT 2021-01-01 to 2021-12-31.xlsx\",\n",
    "                        sheet_name=xl.sheet_names[0],header=0,\n",
    "                        converters= {'datetime': pd.to_datetime},)\n",
    "weather = weather.set_index('datetime')\n",
    "weather.head(1) "
   ]
  },
  {
   "cell_type": "code",
   "execution_count": 4,
   "id": "37a2b77f",
   "metadata": {},
   "outputs": [
    {
     "data": {
      "text/plain": [
       "Index(['name', 'temp', 'feelslike', 'dew', 'humidity', 'precip', 'precipprob',\n",
       "       'preciptype', 'snow', 'snowdepth', 'windgust', 'windspeed', 'winddir',\n",
       "       'sealevelpressure', 'cloudcover', 'visibility', 'solarradiation',\n",
       "       'solarenergy', 'uvindex', 'severerisk', 'conditions', 'icon',\n",
       "       'stations'],\n",
       "      dtype='object')"
      ]
     },
     "execution_count": 4,
     "metadata": {},
     "output_type": "execute_result"
    }
   ],
   "source": [
    "weather.columns"
   ]
  },
  {
   "cell_type": "code",
   "execution_count": 5,
   "id": "5ebbc8c3",
   "metadata": {},
   "outputs": [],
   "source": [
    "interp_method = 'linear' \n",
    "weather['solarradiation'] = weather['solarradiation'].fillna(0.0)\n",
    "weather['cloudcover'] = weather['cloudcover'].fillna(0.0)\n",
    "weather['precip'] = weather['precip'].fillna(0.0)\n",
    "weather['windspeed'] = weather['windspeed'].interpolate(interp_method)\n",
    "weather['temp'] = weather['temp'].interpolate(interp_method)\n",
    "weather['solarradiation'] = weather['solarradiation'].interpolate(interp_method)\n",
    "weather['cloudcover'] = weather['cloudcover'].interpolate(interp_method)\n",
    "weather['dew'] = weather['dew'].interpolate(interp_method)\n",
    "weather['precip'] = weather['precip'].interpolate(interp_method)\n",
    "weather['humidity'] = weather['humidity'].interpolate(interp_method)"
   ]
  },
  {
   "cell_type": "code",
   "execution_count": 6,
   "id": "8445752d",
   "metadata": {},
   "outputs": [
    {
     "data": {
      "image/png": "[encoded data removed]",
      "text/plain": [
       "<Figure size 432x288 with 1 Axes>"
      ]
     },
     "metadata": {
      "needs_background": "light"
     },
     "output_type": "display_data"
    },
    {
     "data": {
      "image/png": "[encoded data removed]",
      "text/plain": [
       "<Figure size 432x288 with 1 Axes>"
      ]
     },
     "metadata": {
      "needs_background": "light"
     },
     "output_type": "display_data"
    },
    {
     "data": {
      "image/png": "[encoded data removed]",
      "text/plain": [
       "<Figure size 432x288 with 1 Axes>"
      ]
     },
     "metadata": {
      "needs_background": "light"
     },
     "output_type": "display_data"
    },
    {
     "data": {
      "image/png": "[encoded data removed]",
      "text/plain": [
       "<Figure size 432x288 with 1 Axes>"
      ]
     },
     "metadata": {
      "needs_background": "light"
     },
     "output_type": "display_data"
    },
    {
     "data": {
      "image/png": "[encoded data removed]",
      "text/plain": [
       "<Figure size 432x288 with 1 Axes>"
      ]
     },
     "metadata": {
      "needs_background": "light"
     },
     "output_type": "display_data"
    },
    {
     "data": {
      "image/png": "[encoded data removed]",
      "text/plain": [
       "<Figure size 432x288 with 1 Axes>"
      ]
     },
     "metadata": {
      "needs_background": "light"
     },
     "output_type": "display_data"
    },
    {
     "data": {
      "image/png": "[encoded data removed]",
      "text/plain": [
       "<Figure size 432x288 with 1 Axes>"
      ]
     },
     "metadata": {
      "needs_background": "light"
     },
     "output_type": "display_data"
    }
   ],
   "source": [
    "ax0 = weather.plot(y='solarradiation')\n",
    "ax0 = weather.plot(y='temp')\n",
    "ax0 = weather.plot(y='cloudcover')\n",
    "ax0 = weather.plot(y='windspeed')\n",
    "ax0 = weather.plot(y='dew')\n",
    "ax0 = weather.plot(y='precip')\n",
    "ax0 = weather.plot(y='humidity')"
   ]
  },
  {
   "cell_type": "code",
   "execution_count": 7,
   "id": "f7965c2b",
   "metadata": {},
   "outputs": [],
   "source": [
    "from scipy.interpolate import interp1d\n",
    "interp_method = 'cubic'\n",
    "\n",
    "t_data = np.arange(0,weather.shape[0]*15*60,15*60)\n",
    "U_atm = np.abs(weather['windspeed'][:].to_numpy()/3.6) #converted from km/h to m/s\n",
    "T_atm = weather['temp'][:].to_numpy()\n",
    "q_sun = weather['solarradiation'][:].to_numpy()\n",
    "# CC = weather['Cloud Cover'][:].to_numpy()\n",
    "cc = weather['cloudcover'][:].to_numpy()/100. # converted from % to fraction\n",
    "rh = weather['humidity'][:].to_numpy() # left as %\n",
    "p_r = weather['precip'][:].to_numpy()*1e-3/(15*60) #converted to mm to m/s \n",
    "T_dp = weather['dew'][:].to_numpy()\n",
    "f_U_atm = interp1d(t_data,U_atm,kind=interp_method)\n",
    "def U_atmospheric(t):\n",
    "    global f_U_atm\n",
    "    return np.maximum(f_U_atm(t),0.)\n",
    "f_T_atm = interp1d(t_data,T_atm,kind=interp_method)\n",
    "def T_atmospheric(t):\n",
    "    global f_T_atm\n",
    "    return f_T_atm(t)\n",
    "f_q_sun = interp1d(t_data,q_sun,kind=interp_method)\n",
    "def sun_irradiation(t):\n",
    "    global f_q_sun\n",
    "    return np.maximum(f_q_sun(t),0.)\n",
    "f_CC = interp1d(t_data,cc,kind=interp_method)\n",
    "def cloud_cover(t):\n",
    "    global f_CC\n",
    "    return np.clip(f_CC(t),0.,1.)\n",
    "f_T_dp = interp1d(t_data,T_dp,kind=interp_method)\n",
    "def dew_point(t):\n",
    "    global f_T_dp\n",
    "    return f_T_dp(t)\n",
    "f_RH = interp1d(t_data,rh,kind=interp_method)\n",
    "def relative_humidity(t):\n",
    "    global f_RH\n",
    "    return np.clip(f_RH(t),0.,100.)\n",
    "f_rain = interp1d(t_data,p_r,kind=interp_method)\n",
    "def rain_rate(t):\n",
    "    global f_rain\n",
    "    return np.maximum(f_rain(t),0.)\n"
   ]
  },
  {
   "cell_type": "markdown",
   "id": "79fbdef5",
   "metadata": {},
   "source": [
    "### Importing Heat Transfer Libraries"
   ]
  },
  {
   "cell_type": "code",
   "execution_count": 8,
   "id": "d70d3cd3",
   "metadata": {},
   "outputs": [],
   "source": [
    "import scipy.constants as csts\n",
    "from scipy.integrate import solve_ivp\n",
    "from Libraries import thermodynamics as thermo\n",
    "from Libraries import HT_external_convection as extconv\n",
    "from Libraries import HT_natural_convection as natconv"
   ]
  },
  {
   "cell_type": "markdown",
   "id": "bdc0b09a",
   "metadata": {},
   "source": [
    "### Convection heat transfer on upper surface\n",
    "\n",
    "Convection heat transfer is determined by the relative strength of forced and natural convection. Here the forced convection is the wind over the roof. Regardless of the direction of the wind, the length of the slab is always assumed to be the dimension of the square making the roof $L$. Thermodynamics properties with a subscript $f$ denotes properties evaluated at the film temperature\n",
    "$$\n",
    "T_f = \\frac{T_s+T_\\infty}{2}\\,,\n",
    "$$ where $T_s$ is the temperature at the surface of the slab. For every time iteration, the following non-dimensional numbers are computed:\n",
    "* Reynolds number quantifies the wind strength\n",
    "$$\n",
    "Re=\\frac{U_\\infty L}{\\nu_f}\n",
    "$$\n",
    "* Grashoff number quantifies the natural convection strength\n",
    "$$\n",
    "Gr=\\frac{g\\beta\\left\\vert T_s-T_\\infty\\right\\vert L^3}{\\nu_f^2}\n",
    "$$\n",
    "* Richardson number quantifies the relative strength of natural convection vs forced wind convection\n",
    "$$\n",
    "Ri=\\frac{Gr}{Re^2}\n",
    "$$\n",
    "* Rayleigh number is required for Nusselt number convection in case of natural convection.\n",
    "$$\n",
    "Ra=\\frac{g\\beta\\left\\vert T_s-T_\\infty\\right\\vert L^3}{\\nu_f\\alpha_f}\n",
    "$$\n",
    "\n",
    "The following algorithm determines the local average convection coefficient\n",
    "$$\n",
    "\\bar{h}=\\bar{h}_{forced}+\\bar{h}_natural=\\frac{\\overline{Nu}_{forced}k_f}{L}+\\frac{\\overline{Nu}_{natural}k_f}{L}\n",
    "$$\n",
    "where $\\overline{Nu}_{forced}$ is the correlation for the flow over a plate at constant temperature and $\\overline{Nu}_{natural}$ is the correlation for natural convection over a horizontal surface at constant temperature. \n",
    "\n",
    "* If the wind velocity drops below $U_\\infty=0.15\\mathrm{m/s}$, there is no forced convection: $h_{forced}=0$\n",
    "* If $Ri<0.1$, natural convection is negligible, $h_{natural} = 0$, compute $h_{forced}$\n",
    "* If $Ri>10$, forced convection is negligible, $h_{forced}=0$, compute $h_{natural}$\n",
    "* If $0.1\\leq Ri\\leq 10$ compute both $h_{forced}$ and $h_{natural}$"
   ]
  },
  {
   "cell_type": "code",
   "execution_count": 9,
   "id": "72907188",
   "metadata": {},
   "outputs": [],
   "source": [
    "def outsideconvection(Uinf,T_f,Tinf,air_f,Lroof,Ts):\n",
    "    #yourcodehear\n",
    "    A = 100\n",
    "    g = 9.81\n",
    "    Ra = natconv.Ra(beta=air_f.beta,DT=np.abs(Ts-Tinf),D=Lroof,nu=air_f.nu,alpha=air_f.alpha)\n",
    "\n",
    "    if Uinf < 0.15:\n",
    "        Ri=11\n",
    "    else:\n",
    "        Gr = g*air_f.beta*(Ts - Tinf)*Lroof**3/(air_f.nu**2)\n",
    "        Re = Uinf*Lroof/air_f.nu\n",
    "        Ri = Gr/Re**2\n",
    "    \n",
    "    if Ri < 0.1:\n",
    "        #natural convection is negligible: Forced Convection\n",
    "        air_bl = extconv.FlatPlate('mixed','isothermal',Uinf,air_f.nu,air_f.alpha,Lroof,xi=0,Re_xc=5e5)\n",
    "        air_bl.average(Lroof)\n",
    "        Nu_ave = air_bl.Nu_ave\n",
    "\n",
    "        h_forced = (Nu_ave*air_f.k)/Lroof\n",
    "        h_nat = 0\n",
    "               \n",
    "    elif 0.1 <= Ri and Ri <= 10:\n",
    "        #Mixed Regime \n",
    "        air_bl = extconv.FlatPlate('mixed','isothermal',Uinf,air_f.nu,air_f.alpha,Lroof,xi=0,Re_xc=5e5)\n",
    "        air_bl.average(Lroof)\n",
    "        Nu_ave = air_bl.Nu_ave\n",
    "        kf = air_f.k \n",
    "        h_forced = (Nu_ave*air_f.k)/Lroof\n",
    "        if Ts >= Tinf:\n",
    "            airFlow = natconv.FlatPlate(Ra,air_f.Pr,'upper','hot')\n",
    "        else:\n",
    "            airFlow = natconv.FlatPlate(Ra,air_f.Pr,'upper','cold')\n",
    "        h_nat = airFlow.Nu*air_f.k/Lroof\n",
    "            \n",
    "    elif Ri > 10:\n",
    "        #forced convection is negligible: Natural Convection\n",
    "        if Ts >= Tinf:\n",
    "            airFlow = natconv.FlatPlate(Ra,air_f.Pr,'upper','hot')\n",
    "        else:\n",
    "            airFlow = natconv.FlatPlate(Ra,air_f.Pr,'upper','cold')\n",
    "        h_nat = airFlow.Nu*air_f.k/Lroof\n",
    "        h_forced = 0\n",
    "    \n",
    "    h = h_nat + h_forced\n",
    "    qpp = h*(Tinf - Ts)\n",
    "    return qpp"
   ]
  },
  {
   "cell_type": "markdown",
   "id": "02a70fac",
   "metadata": {},
   "source": [
    "### Radiation between outer surface and sky\n",
    "\n",
    "The radiation between the surface and sky depends on cloud coverage (variable $cc$ between 0 and 1), air temperature and the dew point temperature $T_{dp}$ for the correlation chosen below. \n",
    "\n",
    "#### Definition of $T_{sky}$\n",
    "* $T_{\\infty}$ Air temperature $\\mathrm{^\\circ C}$\n",
    "* $T_{dp}$ Dew point temperature $\\mathrm{^\\circ C}$\n",
    "* $cc$ Cloud coverage\n",
    "* $\\varepsilon_{clear}$: emissivity of clear blue sky\n",
    "* $\\varepsilon_{sky}=1$\n",
    "\n",
    "$$\n",
    "\\varepsilon_{clear}=0.711 + 0.56\\frac{Tdp}{100} + 0.73\\left(\\frac{Tdp}{100}\\right)^2\n",
    "$$\n",
    "\n",
    "$$\n",
    "Ca = 1. + 0.02224cc + 0.0035cc^2 + 0.00028cc^3\n",
    "$$\n",
    "\n",
    "$$\n",
    "T_{sky}  = (Ca\\varepsilon_{clear})^{0.25}(Tinf+273.15)\n",
    "$$\n",
    "\n",
    "#### Radiation coefficient between surface and sky\n",
    "$$\n",
    "h_{rad,sky}= \\varepsilon_{sky}\\sigma((T_{sky}+273.15)+(T_s+273.15))\n",
    "        ((T_{sky}+273.15)^2+(T_s+273.15)^2)\n",
    "$$"
   ]
  },
  {
   "cell_type": "code",
   "execution_count": 10,
   "id": "f4d67ca2",
   "metadata": {},
   "outputs": [],
   "source": [
    "def T_sky(Tdp,cc,Tinf,Ts):\n",
    "    eps_clear = 0.711 + 0.56*(Tdp/100.) + 0.73*(Tdp/100.)**2\n",
    "    Ca = 1. + 0.02224*cc + 0.0035*cc**2 + 0.00028*cc**3\n",
    "    Tsky  = (Ca*eps_clear)**0.25*thermo.C2K(Tinf)\n",
    "    hr = eps_sky*csts.sigma*(Tsky+thermo.C2K(Ts))* \\\n",
    "        (Tsky**2+thermo.C2K(Ts)**2)\n",
    "    return Tsky,hr\n",
    "def skyradiation(Tdp,cc,Tinf,Ts):\n",
    "    # Ts must be in Celsius\n",
    "    Tsky,hr = T_sky(Tdp,cc,Tinf,Ts)\n",
    "    qsky = eps_sky*csts.sigma*(Tsky**4 - thermo.C2K(Ts)**4)\n",
    "    return qsky\n"
   ]
  },
  {
   "cell_type": "markdown",
   "id": "330a2224",
   "metadata": {},
   "source": [
    "### Heat transfer with rain\n",
    "\n",
    "Rain has a cooling or heating effect on the surface depending on the difference between the wet bulb temperature and the surface temperature. The wet bulb temperature is a function of air temperature and humidity. The heat flux of the rain onto the surface is then calculated as the difference of the rate of enthalpy of the rain at wet bulb temperature hitting the surface and the rate of enthalpy at surface temperature for the same flow rate (variable $Pr$ for precipitation).\n",
    "#### Wet Bulb Temperature Correlation\n",
    "\n",
    "$$\n",
    "T_{WB}=T_\\infty\\arctan\\left[0.1515977\\sqrt{RH + 8.313659}\\right] + \\arctan(T_\\infty + RH) - \\arctan(RH - 1.676331) + 0.00391838RH^{1.5}\\arctan(0.023101RH) \\\n",
    "            - 4.686035\n",
    "$$\n",
    "\n",
    "#### Heat Flux of Cooling by Rain\n",
    "$$\n",
    "q''=\\rho C_p P_r(T_{WB}-Ts(t))\n",
    "$$\n",
    "\n",
    "where $\\rho=1000\\mathrm{kg/m^3}$, $C_p=4.19\\times10^3\\mathrm{J/Kg.K}$ and $P_r$ is the precipitation.\n"
   ]
  },
  {
   "cell_type": "code",
   "execution_count": 11,
   "id": "9964153c",
   "metadata": {},
   "outputs": [],
   "source": [
    "def T_wet_bulb(T,RH):\n",
    "    return T * np.arctan(0.1515977*(RH + 8.313659)**0.5) + np.arctan(T + RH) \\\n",
    "            - np.arctan(RH - 1.676331) + 0.00391838*RH**1.5*np.arctan(0.023101*RH) \\\n",
    "            - 4.686035\n",
    "def rain(pr,Tinf,RH,Ts):\n",
    "    Twb = T_wet_bulb(Tinf,RH)\n",
    "#     print(\"rain\",pr,Twb,Tinf,RH,Ts)\n",
    "    rho = 1000.\n",
    "    Cp = 4.19e3\n",
    "    return rho*Cp*pr*(Twb - Ts)\n",
    "    "
   ]
  },
  {
   "cell_type": "markdown",
   "id": "46d6f986",
   "metadata": {},
   "source": [
    "### Conduction Through Roof -Flat"
   ]
  },
  {
   "cell_type": "code",
   "execution_count": 12,
   "id": "7a305799",
   "metadata": {},
   "outputs": [],
   "source": [
    "def roof_cond(k_ins,k_steel,H_ins,H_steel,Ts_lower,Ts):\n",
    "    Rcondroof=(H_ins/k_ins+H_steel/k_steel) #Assumes flat top\n",
    "    qpp=(1/Rcondroof)*(Ts-Ts_lower)\n",
    "    return qpp"
   ]
  },
  {
   "cell_type": "markdown",
   "id": "012c3411-658d-4ac5-9809-de22c1d62881",
   "metadata": {},
   "source": [
    "## Governing equation of the system\n",
    "\n",
    "Conservation of energy equation is applied to the outer surface of the slab, which is assumed to be at uniform temperature $T_s(t)$:\n",
    "\n",
    "$$\n",
    "\\iint_A\\rho_{ins}C_{p,ins}\\frac{dT_s}{dt}\\rho_{ins}C_{p,ins}A\\frac{dT_s}{dt}=q_{sun}+q_{rain}+q_{conv}+q_{rad,sky}-q_{cond}=(q''_{sun}+q''_{rain}+q''_{conv}+q''_{rad,sky}-q''_{cond})A\n",
    "$$\n",
    "\n",
    "Therefore the equation govering the surface temperature is:\n",
    "$$\n",
    "\\frac{dT_s}{dt}=\\frac{1}{\\rho_{ins}C_{p,ins}}(q''_{sun}+q''_{rain}+q''_{conv}+q''_{rad,sky}-q''_{cond})\\;\\;\\;\\;\\;\\mathrm{Eq.\\;(1)}\n",
    "$$\n",
    "\n",
    "The cooling demand fluctuates over time:\n",
    "\n",
    "$$\n",
    "q''_{cool}(t)=\\begin{cases}\n",
    "\\frac{1}{R''_{tot}}(T_s(t)-T_{s,lower}) &\\text{if }T_s(t)\\geq T_{s,lower}\\\\\n",
    "0 & \\text{otherwise}\n",
    "\\end{cases}\n",
    "$$\n",
    "where $R''_{tot}=R''_{cond,ins}+R''_{cond,concrete}$.\n",
    "\n",
    "Note that the irradiation from the sun is only partly absorbed by the surface:\n",
    "$$\n",
    "q''_{sun}=\\alpha_{abs}I_{sun}(t)\\;,\n",
    "$$\n",
    "where $\\alpha_{abs}$ is the surface absorptivity ($0\\leq \\alpha_{abs}\\leq 1$, always) and $I_{sun}(t)$ is the measure irradiation from the sun."
   ]
  },
  {
   "cell_type": "code",
   "execution_count": 13,
   "id": "76a7279e",
   "metadata": {},
   "outputs": [],
   "source": [
    "def f(t,T):\n",
    "    global Lroof,k,H,eps,f_U_atm,f_T_atm,f_q_sun,rho,C_p,alpha_s,f_CC,f_T_dp\n",
    "    # film temperature between ambient and upper surface\n",
    "    Tinf = T_atmospheric(t)\n",
    "    Uinf = U_atmospheric(t)\n",
    "    \n",
    "    T_f = (T[0]+Tinf)/2\n",
    "    air_f = thermo.Fluid('air',T_f,\"C\")\n",
    "    Tdp = dew_point(t)\n",
    "    cc = cloud_cover(t)\n",
    "    pr = rain_rate(t)\n",
    "    rh = relative_humidity(t)\n",
    "    \n",
    "    \n",
    "    qpp_sun = alpha_s*sun_irradiation(t)\n",
    "    \n",
    "    qpp_sky = skyradiation(Tdp,cc,Tinf,T[0])\n",
    "    \n",
    "    qpp_conv = outsideconvection(Uinf,T_f,Tinf,air_f,Lroof,T[0])\n",
    "    \n",
    "    qpp_rain = rain(pr,Tinf,rh,T[0])\n",
    "    \n",
    "    qpp_cond = roof_cond(k_ins,k_steel,H_ins,H_steel,Ts_lower,T[0])\n",
    "    \n",
    "    qpp_total = qpp_sun + qpp_sky + qpp_conv + qpp_rain - qpp_cond\n",
    "    \n",
    "    return qpp_total/(rho*C_p)\n",
    "    "
   ]
  },
  {
   "cell_type": "markdown",
   "id": "12aea8a0",
   "metadata": {},
   "source": [
    "## Main code"
   ]
  },
  {
   "cell_type": "code",
   "execution_count": 14,
   "id": "e43077cf",
   "metadata": {},
   "outputs": [],
   "source": [
    "rho = 20.\n",
    "C_p = 2500.\n",
    "alpha_s = 0.5\n",
    "eps_sky = 1.\n",
    "\n",
    "#Inputs\n",
    "k_ins = 0.04 #W/(mK)\n",
    "H_ins = 0.0508 #m\n",
    "k_steel = 0.046 #W/(mK)\n",
    "H_steel = 0.0009525 #m\n",
    "Lroof = 100\n",
    "A = Lroof**2\n",
    "Ts_lower = 20 #C\n",
    "\n",
    "tmax = t_data[-1]\n",
    "mask = np.where(t_data <= tmax)\n",
    "sol = solve_ivp(f,[0,tmax],[-5],method='LSODA',t_eval=t_data[mask],max_step=10*60.)"
   ]
  },
  {
   "cell_type": "markdown",
   "id": "61ffece0",
   "metadata": {},
   "source": [
    "### Maximum Cooling Load"
   ]
  },
  {
   "cell_type": "code",
   "execution_count": 15,
   "id": "a986a0aa",
   "metadata": {},
   "outputs": [
    {
     "name": "stdout",
     "output_type": "stream",
     "text": [
      "Maximum cooling demand: 214275 W\n",
      "on 06/07/2021, 16:00:00 \n"
     ]
    }
   ],
   "source": [
    "weather['Tsu'] = sol.y[0]\n",
    "Rcondroof=(H_ins/k_ins+H_steel/k_steel)\n",
    "weather['q_cool'] = np.maximum((1/Rcondroof)*(sol.y[0] - Ts_lower)*A,0.)\n",
    "\n",
    "#Input\n",
    "#q_HUMANITY=100*4035 \n",
    "\n",
    "print(\"Maximum cooling demand: %.0f W\" %(weather['q_cool'].max()))\n",
    "print(\"on %s \" %weather.index[weather['q_cool'].argmax()].strftime(\"%m/%d/%Y, %H:%M:%S\"))\n"
   ]
  },
  {
   "cell_type": "code",
   "execution_count": 16,
   "id": "ff54c1d3",
   "metadata": {},
   "outputs": [
    {
     "name": "stdout",
     "output_type": "stream",
     "text": [
      "With a 75 percent efficient heat exchanged, the geothermal cooling system must supply 285700 W\n"
     ]
    }
   ],
   "source": [
    "q_Geo=((weather['q_cool'].max())/.75)\n",
    "print(\"With a 75 percent efficient heat exchanged, the geothermal cooling system must supply %.0f W\" %q_Geo)"
   ]
  },
  {
   "cell_type": "markdown",
   "id": "ea65e876",
   "metadata": {},
   "source": [
    "## Piping length inside the geothermal system\n",
    "\n",
    "We consider a close loop system containing water which should arrive at the heat exchanger with a temperature of C and exits the heat exchanger at 12C. Assuming that these temperatures to be the temperatures at the entrance of the underground pipe (20C) and the exit (12C), the heat transfer between the geothermal system and the water circulating in a pipe is:\n",
    "\n",
    "$$\n",
    "q=\\dot{m}C_p(T_{m,i}-T_{m,o})\\;\\;\\;\\;\\;\\mathrm{Eq\\;(3)}\n",
    "$$\n",
    "where $\\dot{m}$ is the mass flow rate.\n",
    "\n",
    "Eq. (3) is used to determine the flow rate, which in turn defines the convection coefficient of the flow within the pipe using the Dittus Boettler correlation. \n",
    "\n",
    "Assuming that the outside surface of the pipe is at $\\mathrm{12^\\circ C}$, the total resistance between the flow and the ground per unit length is\n",
    "\n",
    "$$\n",
    "R'_{tot}=R'_{conv,i}+R'_{cond}\n",
    "$$\n",
    "\n",
    "$L$ is then the solution of the equation for the variation of temperature between inlet and outlet of the pipe\n",
    "\n",
    "$$\n",
    "\\frac{T_\\infty-T_{m,o}}{T_\\infty-T_{m,i}}=\\exp\\left(-\\frac{1}{\\dot{m}C_pR_\\text{tot}}\\right)\n",
    "$$\n",
    "for the target outlet temperature $T_{m,o}$. First, assuming 1D, steady convection on the outside of the pipe, we must solve for $R'_{tot}$. Since\n",
    "$$\n",
    "R_{tot}=\\frac{R'_{tot}}{L}\n",
    "$$\n",
    "the pipe length is\n",
    "$$\n",
    "L=-\\dot{m}C_pR'_\\text{tot}\\ln\\frac{T_\\infty-T_{m,o}}{T_\\infty-T_{m,i}}\n",
    "$$\n",
    "\n",
    "Here we assume that the analysis for a straight pipe applies to a system where the pipe will most likely spiral within the ground."
   ]
  },
  {
   "cell_type": "code",
   "execution_count": 36,
   "id": "9c81aa90",
   "metadata": {},
   "outputs": [
    {
     "name": "stdout",
     "output_type": "stream",
     "text": [
      "mass flow rate: 6.8244 kg/s\n",
      "Average velocity: 0.843 m/s\n",
      "Re_D_pipe= 79194\n",
      "h_int=2048.9 W/m^2.K\n",
      "The necessary length of the pipe is 340 m\n"
     ]
    }
   ],
   "source": [
    "Tmi = 22. #C\n",
    "Tmo = 12. #C\n",
    "#qcool_max = 285700. #W\n",
    "Delta_T = Tmo - Tmi\n",
    "Tm = (Tmo + Tmi)/2\n",
    "water_Tm = thermo.Fluid('water',Tm,\"C\")\n",
    "mdot = q_Geo/(water_Tm.Cp*abs(Delta_T))\n",
    "print(\"mass flow rate: %.4f kg/s\" %mdot)\n",
    "Di = 4*0.0254\n",
    "Do = Di + 0.3*0.0254\n",
    "kpipe = 2.25\n",
    "A = np.pi*Di**2/4\n",
    "Um = mdot/(water_Tm.rho*A)\n",
    "print(\"Average velocity: %.3f m/s\" %Um)\n",
    "\n",
    "import HT_thermal_resistance as res\n",
    "import HT_internal_convection as intconv\n",
    "Rp = []\n",
    "Rp.append(res.Resistance(\"$R'_{conv,i}$\", \"W/m\"))\n",
    "Rp.append(res.Resistance(\"$R'_{cond}$\", \"W/m\"))\n",
    "pipeflow = intconv.PipeFlow(D=Di,L=1,Um=Um,nu=water_Tm.nu)\n",
    "print(\"Re_D_pipe= %.0f\" %pipeflow.Re)\n",
    "pipeflow.Dittus_Boelter(mode='cooling',Pr=water_Tm.Pr)\n",
    "hint = pipeflow.Nu*water_Tm.k/Di\n",
    "print(\"h_int=%.1f W/m^2.K\" %hint)\n",
    "Rp[0].convection(h=hint,A=np.pi*Di)\n",
    "\n",
    "# conduction\n",
    "Rp[1].cond_cylinder(k=kpipe,ra=Di,rb=Do,L=1.)\n",
    "Rptot = Rp[0].R + Rp[1].R\n",
    "T_infty=10.\n",
    "L = intconv.L_given_other_params(T_infty,Tmo,Tmi,mdot,water_Tm.Cp,Rptot)\n",
    "print(\"The necessary length of the pipe is %.0f m\" %L)"
   ]
  },
  {
   "cell_type": "markdown",
   "id": "44d5c5cc",
   "metadata": {},
   "source": [
    "### Pipe Headloss, Required Power, and Cost\n",
    "\n",
    "A uniform flow entering a pipe first experiences streamwise variation of velocity to accommodate the wall boundary conditions. A boundary layer, of thickness $\\delta$, forms on the wall and grows until its edge reaches the pipe centerline. This region is the hydrodynamic entrance region. Beyond that point, the flow becomes fully developed, which means that\n",
    "<ul>\n",
    "<li> In the laminar regime, the velocity profile is only a function of $r$,</li>\n",
    "<li> In the turbulent regime, the <b>mean</b> velocity profile is only a function of $r$.</li>\n",
    "</ul>\n",
    "Friction drag or the force exerted by the flow onto the pipe wall governs the pressure gradient necessary to generate a desired flowrate. Calculation of the friction drag leads to the design of the mechanical force creating the pressure gradient. In fully developed (laminar or turbulent) regimes, the pressure gradient may be determined by\n",
    "<p class='alert alert-danger'>\n",
    "$$\n",
    "-\\frac{\\Delta\\overline{P}}{L}=f\\,\\frac{1}{D}\\,\\frac{\\rho U_m^2}{2}\\;\\;\\;\\;\n",
    "$$\n",
    "</p>\n",
    "where $D=2R$ and $L$ are the diameter and length of the pipe, respectively, and $f$ is the <b>friction factor</b>. The bulk velocity or average velocity is\n",
    "<p class='alert alert-info'>\n",
    "$$\n",
    "U_m=\\frac{\\dot{m}}{\\rho A_c}\\;\\;\\;\\;\n",
    "$$\n",
    "Where $A_c$ is the cross sectional area of the pipe.\n",
    "</p>\n",
    "where $\\dot{m}$ is the mass flux\n",
    "$$\n",
    "\\dot{m}=\\int_0^{2\\pi}\\int_0^R\\rho \\overline{u}(r)\\,r\\,dr d\\theta=2\\pi\\int_0^R\\rho \\overline{u}(r)\\,r\\,dr\\;\\;\\;\\;\n",
    "$$\n",
    "and $A_c=\\pi R^2$\n",
    "The Reynolds number of the flow is based on the bulk velocity and pipe diameter:\n",
    "<p class='alert alert-danger'>\n",
    "$$\n",
    "Re_D=\\frac{\\rho U_mD}{\\mu}=\\frac{4\\dot{m}}{\\pi D\\mu}\\;\\;\\;\\;\n",
    "$$\n",
    "</p>\n",
    "\n",
    "Beyond the critical Reynolds number, $f$ is a function of the roughness to diameter ratio $\\varepsilon=e/D$ (e is typically the standard deviation of the roughness height) and the Reynolds number.\n",
    "<p class='alert alert-danger'>\n",
    "$$\n",
    "\\frac{1}{\\sqrt{f}}=-2\\log_{10}\\left[\\frac{\\varepsilon}{3.7}+\\frac{2.51}{Re_D\\sqrt{f}}\\right]\\;\\;\\;\\;\n",
    "$$\n",
    "</p>\n",
    "\n",
    "Often there is a need to determine the pump or blower power $P$ necessary to move the flow at a prescribed pressure drop:\n",
    "<p class='alert alert-danger'>\n",
    "$$\n",
    "P=\\frac{\\dot{m}}{\\rho}\\Delta p= \\underbrace{(\\Delta p)A_c}_\\text{force}\\cdot U_m\\;\\;\\;\\;\n",
    "$$\n",
    "</p>\n",
    "\n",
    "\n",
    "Here we assume that the analysis for a straight pipe applies to a system where the pipe will most likely spiral within the ground.\n",
    "\n",
    "## Pipe Cost\n",
    "\n",
    "Taking the pipe cost to be $11.88 per meter of pipe based on an online source (https://hdpesupply.com/4-ips-sdr17-pe4710-black-hdpe-pipe-straight-length-per-foot/), the cost of the pipe is simply calculated by multiplying that cost by the length of the pipe found in meters.\n",
    "\n",
    "$$\n",
    "Cost_{Pipe}=Length*$11.88\n",
    "$$"
   ]
  },
  {
   "cell_type": "code",
   "execution_count": 35,
   "id": "61f036db",
   "metadata": {},
   "outputs": [
    {
     "name": "stdout",
     "output_type": "stream",
     "text": [
      "Total cost of pipe = $4041\n",
      "Kinematic viscosity : 1.08e-06 m^2/s\n",
      "Re= 7.92e+04\n",
      "Mass flowrate= 6.8 kg/s\n",
      "Volume flowrate= 0.007 m^3/s\n",
      "Friction Factor = 0.05750\n",
      "Head Loss Due to Friction = 6.98 m\n",
      "Pressure Gradient -dP/dx= 68279 Pa/m\n",
      "Pumping Power Required = 467 Watts\n",
      "Pump Power Spec With a Pump Efficiency of 0.85 is 549 Watts\n"
     ]
    }
   ],
   "source": [
    "from Libraries import thermodynamics as thermo\n",
    "waterflow = thermo.Fluid('water',Tm,\"C\")\n",
    "#Importing thermo libraries\n",
    "\n",
    "#Setting fluid temperature for properties (Set as average temp T_in+T_out/2)\n",
    "#Setting up opbject for water flow\n",
    "\n",
    "g = 9.8\n",
    "#Gravity Constant\n",
    "#Length of pipe\n",
    "#Diameter of pipe\n",
    "#Velocity of flow in pipe\n",
    "Cost_Per_Meter = 11.88 #$/m\n",
    "#Cost Per Meter of Pipe - https://hdpesupply.com/4-ips-sdr17-pe4710-black-hdpe-pipe-straight-length-per-foot/\n",
    "Pipe_Cost_Tot = L*Cost_Per_Meter\n",
    "#Total cost for pipe\n",
    "vdot = mdot/1000 #(m^3/s)\n",
    "#Volume Flow Rate \n",
    "P_eff = 0.85\n",
    "#Efficiency of Pump\n",
    "\n",
    "\n",
    "pipe = intconv.PipeFlow(D=Di, L=L, rho=waterflow.rho, nu=waterflow.nu, Um=Um)\n",
    "\n",
    "print(\"Total cost of pipe = $%1.0f\" %Pipe_Cost_Tot)\n",
    "print(\"Kinematic viscosity : %0.2e m^2/s\" %waterflow.nu)\n",
    "print(\"Re= %1.2e\" %pipe.Re)\n",
    "print(\"Mass flowrate= %1.1f kg/s\" %mdot)\n",
    "print(\"Volume flowrate= %1.3f m^3/s\" %vdot)\n",
    "pipe.f_turbulent(eps=0.03)\n",
    "print(\"Friction Factor = %1.5f\" %pipe.f)\n",
    "h_lf = pipe.f*L/Di*(Um*Um)/(2*g)\n",
    "print('Head Loss Due to Friction = %.2f m' %h_lf)\n",
    "\n",
    "print(\"Pressure Gradient -dP/dx= %1.0f Pa/m\" %pipe.dPdx)\n",
    "\n",
    "\n",
    "P_power = (pipe.mdot/waterflow.rho)*pipe.dPdx\n",
    "print(\"Pumping Power Required = %1.0f Watts\" %P_power)\n",
    "P_spec = (1/0.85)*P_power\n",
    "#Power Spec of Pump\n",
    "print(\"Pump Power Spec With a Pump Efficiency of %1.2f is %1.0f Watts\" %(P_eff,P_spec))"
   ]
  },
  {
   "cell_type": "markdown",
   "id": "7bdbc1bc",
   "metadata": {},
   "source": [
    "#### Why does the room model need three temperatures?\n",
    "\n",
    "\n",
    "\n",
    "*`T[0]` : Temperature of the roof exposed to the outside. This discribes the boundary conditions for the energy entering the control surface\n",
    "\n",
    "\n",
    "\n",
    "*`T[1]` : Temperature of the ceiling. this defines the interior control surface exposed to the volume of the room.\n",
    "\n",
    "\n",
    "\n",
    "*`T[2]` : Average temperature of the room\n",
    "\n",
    "\n",
    "\n",
    "*`T[3]` : is NOT a temperature, it is a coefficient equal to 1 when heating is needed, -1 when cooling is needed, 0 when `T[2]` is between $T_{sp}-\\Delta_{sp}$ and $T_{sp}+\\Delta_{sp}$\n",
    "\n",
    "\n",
    "\n",
    "The code solves four equations\n",
    "\n",
    "\n",
    "\n",
    "$$\n",
    "\\frac{dT_i}{dt}=\\frac{1}{\\rho C_p}(\\sum E_{in}-\\sum E_{out}+ \\sum E_g)\n",
    "$$\n",
    "for i=0,1,2,3"
   ]
  },
  {
   "cell_type": "markdown",
   "id": "19475c96",
   "metadata": {},
   "source": [
    "### Inside Convection"
   ]
  },
  {
   "cell_type": "code",
   "execution_count": 19,
   "id": "c4832207",
   "metadata": {},
   "outputs": [],
   "source": [
    "def insideconvection(T_f_in, T_vol, air_f_in, Lplate, T_surf):\n",
    "    Ra = natconv.Ra(beta=air_f_in.beta,DT=np.abs(T_surf-T_vol),D=Lplate,nu=air_f_in.nu,alpha=air_f_in.alpha)\n",
    "    \n",
    "    #No forced convection inside\n",
    "    NaturalConvection = True\n",
    "    \n",
    "    #Natural convection flux\n",
    "    if NaturalConvection and Ra > 1e4:\n",
    "        if T_surf >= T_vol:\n",
    "            airflow = natconv.FlatPlate(Ra,air_f_in.Pr,'upper','hot')\n",
    "        else:\n",
    "            airflow = natconv.FlatPlate(Ra,air_f_in.Pr,'upper','cold')\n",
    "        hconv_n = airflow.Nu*air_f_in.k/Lplate\n",
    "    else:\n",
    "        hconv_n = 0\n",
    "    h = hconv_n\n",
    "    qpp = h*(T_surf - T_vol)\n",
    "    \n",
    "    return qpp"
   ]
  },
  {
   "cell_type": "markdown",
   "id": "96b13ef4",
   "metadata": {},
   "source": [
    "### Variable Input"
   ]
  },
  {
   "cell_type": "code",
   "execution_count": 20,
   "id": "f6492e1d",
   "metadata": {},
   "outputs": [],
   "source": [
    "T_hvac = 4*60 #4mins in seconds \n",
    "q_hvac = 10000 #W, power delivered by the hvac\n",
    "V_room = 100*100*5\n",
    "\n",
    "T_sp = 20\n",
    "DT_sp = 1"
   ]
  },
  {
   "cell_type": "markdown",
   "id": "eef1bc1d",
   "metadata": {},
   "source": [
    "### Updated Building Model Code"
   ]
  },
  {
   "cell_type": "code",
   "execution_count": 21,
   "id": "bfcca890",
   "metadata": {},
   "outputs": [],
   "source": [
    "#Code for building:\n",
    "\n",
    "def f_room(t,T):\n",
    "    global Lroof,eps,f_U_atm,f_T_atm,f_q_sun,rho,C_p,alpha_s,f_CC,f_T_dp,T_sp,DT_sp\n",
    "    global q_hvac,T_hvac,V_room\n",
    "    dTdt = np.zeros(len(T))\n",
    "    # film temperature between ambient and upper surface\n",
    "    Tinf = T_atmospheric(t)\n",
    "    Uinf = U_atmospheric(t)\n",
    "    \n",
    "    T_f = (T[0]+Tinf)/2\n",
    "    air_f = thermo.Fluid('air',T_f,\"C\")\n",
    "    Tdp = dew_point(t)\n",
    "    cc = cloud_cover(t)\n",
    "    pr = rain_rate(t)\n",
    "    rh = relative_humidity(t)\n",
    "    \n",
    "    #input number of people\n",
    "    #q_HUMANITY=(100*4035)\n",
    "    \n",
    "    qpp_sun = alpha_s*sun_irradiation(t)\n",
    "    \n",
    "    qpp_sky = skyradiation(Tdp,cc,Tinf,T[0]) #h_rad(T_s - T_sky)\n",
    "    \n",
    "    qpp_conv = outsideconvection(Uinf, T_f,Tinf, air_f,Lroof, T[0]) #h_conv_tot(T_s -T_inf)\n",
    "    \n",
    "    qpp_rain = rain(pr,Tinf,rh,T[0]) #h_rain(Twb - T_s)\n",
    "    \n",
    "    qpp_cond = roof_cond(k_ins,k_steel,H_ins,H_steel,T[1],T[0])\n",
    "    \n",
    "    T_f_in = (T[1] + T[2])/2.\n",
    "    air_f_in = thermo.Fluid('air',T_f_in,\"C\")\n",
    "    qpp_conv_in = insideconvection(T_f_in, T[2], air_f_in, Lroof, T[1])\n",
    "    qpp_total = qpp_sun + qpp_sky + qpp_conv + qpp_rain - qpp_cond\n",
    "    dTdt[0] = qpp_total/(rho*C_p)\n",
    "    dTdt[1] = (qpp_cond - qpp_conv_in)/(air_f_in.rho*air_f_in.Cp)\n",
    "    air_room = thermo.Fluid('air',T[2],\"C\")\n",
    "\n",
    " \n",
    "\n",
    "    dTdt[2] = (qpp_conv_in*A + T[3]*q_hvac)/(air_room.rho*air_room.Cp*V_room)\n",
    "    if T[2] > T_sp + DT_sp:\n",
    "        if T[3] >= -1:\n",
    "            dTdt[3] = -1./T_hvac\n",
    "    elif T[2] < T_sp - DT_sp:\n",
    "        if T[3] <= 1.:\n",
    "            dTdt[3] = 1./T_hvac\n",
    "    return dTdt\n",
    "\n"
   ]
  },
  {
   "cell_type": "markdown",
   "id": "681fbefa",
   "metadata": {},
   "source": [
    "### Updated Model Main Code"
   ]
  },
  {
   "cell_type": "code",
   "execution_count": 22,
   "id": "a0234a25",
   "metadata": {},
   "outputs": [],
   "source": [
    "rho = 20.\n",
    "C_p = 2500.\n",
    "alpha_s = 0.5\n",
    "eps_sky = 1.\n",
    "\n",
    "#Inputs\n",
    "k_ins = 0.04 #W/(mK)\n",
    "H_ins = 0.0508 #m\n",
    "k_steel = 0.046 #W/(mK)\n",
    "H_steel = 0.0009525 #m\n",
    "Lroof = 100\n",
    "A = Lroof**2\n",
    "Ts_lower = 20 #C\n",
    "\n",
    "tmax = t_data[-1]\n",
    "mask = np.where(t_data <= tmax)\n",
    "\n",
    "sol = solve_ivp(f_room,[0,tmax],[f_T_atm(t_data[0]),T_sp,T_sp,0],method='LSODA',t_eval=t_data[mask],max_step=600)"
   ]
  },
  {
   "cell_type": "markdown",
   "id": "aa2d47af",
   "metadata": {},
   "source": [
    "### Cooling Load Comparison"
   ]
  },
  {
   "cell_type": "code",
   "execution_count": 23,
   "id": "60edfdae",
   "metadata": {},
   "outputs": [],
   "source": [
    "weather['q_hvac_cooling']=-np.clip(sol.y[3],-1.1,0.)*q_hvac"
   ]
  },
  {
   "cell_type": "code",
   "execution_count": 24,
   "id": "8135aedf",
   "metadata": {
    "scrolled": true
   },
   "outputs": [
    {
     "data": {
      "text/plain": [
       "<AxesSubplot:xlabel='datetime'>"
      ]
     },
     "execution_count": 24,
     "metadata": {},
     "output_type": "execute_result"
    },
    {
     "data": {
      "image/png": "[encoded data removed]",
      "text/plain": [
       "<Figure size 432x288 with 1 Axes>"
      ]
     },
     "metadata": {
      "needs_background": "light"
     },
     "output_type": "display_data"
    }
   ],
   "source": [
    "wombat=weather['q_cool'].plot()\n",
    "weather['q_hvac_cooling'].plot(ax=wombat)"
   ]
  },
  {
   "cell_type": "code",
   "execution_count": 25,
   "id": "75bceec4",
   "metadata": {},
   "outputs": [
    {
     "data": {
      "text/latex": [
       "$\\displaystyle 29182251.6044614$"
      ],
      "text/plain": [
       "29182251.604461364"
      ]
     },
     "execution_count": 25,
     "metadata": {},
     "output_type": "execute_result"
    }
   ],
   "source": [
    "weather['q_cool'].sum()*15*60/3600 #data taken every 15 mins"
   ]
  },
  {
   "cell_type": "code",
   "execution_count": 26,
   "id": "85047e0d",
   "metadata": {},
   "outputs": [
    {
     "data": {
      "text/latex": [
       "$\\displaystyle 8143342.28810111$"
      ],
      "text/plain": [
       "8143342.28810111"
      ]
     },
     "execution_count": 26,
     "metadata": {},
     "output_type": "execute_result"
    }
   ],
   "source": [
    "weather['q_hvac_cooling'].sum()*15*60/3600"
   ]
  },
  {
   "cell_type": "markdown",
   "id": "7507a1f1",
   "metadata": {},
   "source": [
    "### Temperature Check"
   ]
  },
  {
   "cell_type": "code",
   "execution_count": 27,
   "id": "882cc042",
   "metadata": {},
   "outputs": [
    {
     "data": {
      "text/plain": [
       "<AxesSubplot:xlabel='datetime'>"
      ]
     },
     "execution_count": 27,
     "metadata": {},
     "output_type": "execute_result"
    },
    {
     "data": {
      "image/png": "[encoded data removed]",
      "text/plain": [
       "<Figure size 432x288 with 1 Axes>"
      ]
     },
     "metadata": {
      "needs_background": "light"
     },
     "output_type": "display_data"
    }
   ],
   "source": [
    "weather['tempcheck']=sol.y[2]\n",
    "weather['tempcheck'].plot()"
   ]
  },
  {
   "cell_type": "markdown",
   "id": "c23b1cb3",
   "metadata": {},
   "source": [
    "### Variable q_hvac Analysis"
   ]
  },
  {
   "cell_type": "code",
   "execution_count": 28,
   "id": "e93e6a64",
   "metadata": {},
   "outputs": [
    {
     "data": {
      "image/png": "[encoded data removed]",
      "text/plain": [
       "<Figure size 432x288 with 1 Axes>"
      ]
     },
     "metadata": {
      "needs_background": "light"
     },
     "output_type": "display_data"
    }
   ],
   "source": [
    "Input_q_hvac=[1000,5000,8000,10000,15000,25000]\n",
    "q_hvac_cooling_tot=[870819.202910989,4279252.62903607,6667905.73483349,8143342.28810111,11639636.1737659,16750322.7737699 \n",
    "]\n",
    "\n",
    "plt.plot(Input_q_hvac,q_hvac_cooling_tot)\n",
    "plt.xlabel('q HVAC')\n",
    "plt.ylabel('Total Cooling Load')\n",
    "plt.show()\n",
    "\n"
   ]
  },
  {
   "cell_type": "markdown",
   "id": "a6b8a7a1",
   "metadata": {},
   "source": [
    "## Model Analysis and Conclusion"
   ]
  },
  {
   "cell_type": "markdown",
   "id": "e78d90e1",
   "metadata": {},
   "source": [
    "Updating the model to include interior convection reveals several things about the system. First, it shows how unfeasible it is to use a geothermal cooling system to keep the temperature on the ceiling constant. By setting the fixed temperature to be in the middle of the room, the model not only becomes more accurate to realistic building design desires, it also drastically reduces the required cooling load. This is because interior convection adds a hysteresis affect which increases the time required to heat up the set point temperature, which means the cooling system requires less power to maintain temperature.\n",
    "\n",
    "The second conclusion reached about this system is that simple steel and insulation roofs are extremely poor choises for climate controlled rooms. Even with 50 kWs of HVAC cooling, the temperature in the room still exceeded 21$^{\\circ}$C consistently throughout the summer months, peaking at around 28$^{\\circ}$C. The graph of Total Cooling Load versus q HVAC only reaches a stable point where increasing the HVAC power has negligible impact on the total cooling load when q HVAC is well over 100 kW, at which point the temperature still ocassionally exceeds 2$1^{\\circ}$C. Reducing the net thermal conductivity of the roof should be able to reduce this point down to around 10-15 kW. Such a change would also increase the degree of the first conclusion, further demonstraighting how ineffectual balancing a cooling system off of ceiling temperature is. These results can be taken as a case study emphasizing the importance of proper building insulation. \n",
    "\n",
    "Despite the poor building insulation, this rough estimate still shows geothermal cooling to be a viable option with pump power, pipe length, and pipe cost not being prohibitively large. With a better insulated model building these costs would reduce even further. This supports the conclusion that low depth geothermal cooling would indeed be a viable means cooling buildings in Vermont over the summer.  \n",
    "\n"
   ]
  },
  {
   "cell_type": "code",
   "execution_count": null,
   "id": "afdb81d3",
   "metadata": {},
   "outputs": [],
   "source": []
  },
  {
   "cell_type": "code",
   "execution_count": null,
   "id": "2e15e744-880c-47ea-8316-e13dabb84e5f",
   "metadata": {},
   "outputs": [],
   "source": []
  },
  {
   "cell_type": "code",
   "execution_count": null,
   "id": "edd68cc5-200f-4e58-9c0b-ef35ede590a4",
   "metadata": {},
   "outputs": [],
   "source": []
  },
  {
   "cell_type": "code",
   "execution_count": null,
   "id": "ae09cd0f-dbc9-4b83-96df-ba094f944869",
   "metadata": {},
   "outputs": [],
   "source": []
  },
  {
   "cell_type": "code",
   "execution_count": null,
   "id": "fdf12564-4ef3-472f-9f9f-fb965cb4e157",
   "metadata": {},
   "outputs": [],
   "source": []
  }
 ],
 "metadata": {
  "kernelspec": {
   "display_name": "Python 3 (ipykernel)",
   "language": "python",
   "name": "python3"
  },
  "language_info": {
   "codemirror_mode": {
    "name": "ipython",
    "version": 3
   },
   "file_extension": ".py",
   "mimetype": "text/x-python",
   "name": "python",
   "nbconvert_exporter": "python",
   "pygments_lexer": "ipython3",
   "version": "3.9.7"
  }
 },
 "nbformat": 4,
 "nbformat_minor": 5
}
